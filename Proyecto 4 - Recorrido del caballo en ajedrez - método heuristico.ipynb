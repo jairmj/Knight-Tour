{
 "cells": [
  {
   "cell_type": "markdown",
   "metadata": {},
   "source": [
    "<h1><center>PROYECTO 4</center></h1>\n",
    "<h1><center>Recorrido del caballo en ajedrez</center></h1>\n",
    "\n",
    "\n",
    "![horse](https://encrypted-tbn0.gstatic.com/images?q=tbn:ANd9GcQ-9FOcbyKbNfNy_KVFJFMSIf-CpARpMOxrC8NCj1oXWRpwfnsg)\n",
    "\n",
    "Este proyecto resolverá un problema clásico de programación: como mover un caballo dentro de un tablero de ajedrez, sin repetir ninguna posición prevía y recorrer todo el tablero?"
   ]
  },
  {
   "cell_type": "markdown",
   "metadata": {},
   "source": [
    "### Requerimientos del programa\n",
    "Para resolver este problema debemos tener algunas nociones:\n",
    "\n",
    "* Un tablero de ajedrez es un arreglo cuadrado de 8 x 8\n",
    "* El caballo es una ficha que se mueve recorriendo un movimiento en L: una casilla en una direccion y dos casillas en una dirección perpendicular\n",
    "\n",
    "Se puede demostrar que, gracias a este movimiento, la ficha del caballo puede recorrer todo el tablero de ajedrez, siguiendo un camino sin volver a pasar por una casilla anterior, como se muestra en la siguiente figura:\n",
    "\n",
    "![tour](https://encrypted-tbn0.gstatic.com/images?q=tbn:ANd9GcR5W1hNFfBrYjGY0Cw7XM_tG36wt3SWeRbYXoYM-7hP_CHaHNjTYQ)\n",
    "\n",
    "La forma de encontrar esta ruta es siguiendo un camino y en caso de quedarse atorado en algun punto, regresar sobre los pasos anteiores e intentar otro camino: backtracking. Sin embargo, este proceso resulta complejo por lo que se puede optar por algún modelo probabilístico: una heurística.\n",
    "\n",
    "### Heurística de Warnsdorff\n",
    "El módelo a utilizar para este algoritmo será la heurística de Warnsdorff. Es un modelo que se base en una premisa sencilla: el caballo debe dirigirse hacia una zona en el tablero que haya sido menos recorrida. Esto quiere decir que para una posicion cualquiera, será necesario calcular las siguientes posiciones probables (hasta 8 posibles posiciones) que no hayan sido anteriormente recorridas. Luego, calcular de estas nuevas posiciones las nuevas pociciones en un segundo movimiento. La heurística indica que el camino a recorrer será la nueva posición que, considerando las segundas siguientes nuevas posiciones, tenga más probabilidades de salida.\n",
    "\n",
    "Llamememos \"grado\" al número de pasos posibles a partir de un punto. Cuando se coloca la ficha del caballo en medio del tablero, el grado de esta posición será 8 pues existen 8 lugares posibles a donde dirigirse. Para decidir a cual de estas 8 posiciones el caballo debe de saltar, será necesario calcular nuevamente los grados para estas 8 posiciones. En un inicio, todas las siguientes posiciones tendrán tambien un grado 8 (recuerde que en el ejemplo el caballo se encuentra en el medio de tablero) por lo que se podrá dirigir a cualquier posicion de manera indistinta.\n",
    "\n",
    "Sin embargo, para el próximo salto ya no podrá volver a su posicion inicial (ahora tiene 7 saltos posibles) y es posible que al queres hallar el grados de estas 7 posiciones, halla posiciones que no pueda ocupar (algunos saltos saldrán fuera del tablero) por lo que sus opciones serán mas restiguidas y por lo tanto habtra posiciones en diferentes grados: la herística dice que debemos ir a las posiciones con los grados más altos (que es lo mismo que afirmar que hay que ir a las posiciones donde tendrémos más caminos de salida).\n",
    "\n",
    "Podríamos resumir el algoritmo de la siguiente forma:\n",
    "\n",
    "    1. Hacer un tablero sin marcas de movimientos.\n",
    "    2. Sea P la posicion aleatoria incial en el tablero\n",
    "    3. Marcar P con el numero de movimiento (\"1\") en el tablero\n",
    "    4. Para la posicion P:\n",
    "        4.1 Encontrar el conjunto S de nuevas posiciones validas\n",
    "        4.2 Hallar el conjunto de grados G de cada una de estas posiciones\n",
    "        4.3 Si todos los elementos de G son iguales, seleccionar cualquier S como P\n",
    "            de lo contrario seleccionar el S con el mínimo valor de G como P\n",
    "        4.4 Marcar P con la posicion del movimiento(\"2\", \"3\", ...) en el tablero\n",
    "        4.5 Ir al paso 4 mientras no se halla recorrido todo el tablero.\n",
    "        \n",
    "La heuristica de Warnsdorff no siempre obtiene resultados! Eventualmente puede terminar atrapado sin salida, por lo que su programa debe de considerar este caso e indicar que no se puede hallar un resultado.\n",
    "\n",
    "### Descripción del proyecto\n",
    "Utilice un arreglo de 8 x 8 para modelar el tablero que vaya registrando todos los pasos desde una posicion inicial aleatoria. Su programa debe de mostrar el resultado final como un arreglo con 64 valores, desde el 1 hasta el 64, que muestre los saltos del caballo en todo el viaje. Es más sencillo utilizar arreglos que una lista de listas para resolver este problema.\n",
    "\n",
    "Adicionamente, muestre un gráfico con una cuadricula de 8 x 8 donde se muestre el recorrido del viaje, utilizando un trazado continuo y unos marcadores redondos sobre las casillas.\n",
    "\n",
    "TIP: Escriba funciones para encontrar el grado y las posiciones del movimiento. También puede crear un objeto caballo que retorne los movimientos y vaya almacenando el recorrido. Hay muchas herramientas a su disposición para solucionar este problema.\n",
    "\n",
    "TIP: Utilice un diccionario donde pueda convertir cada posicion del tablero en una tupla con coordenadas para obtener el gráfico."
   ]
  },
  {
   "cell_type": "markdown",
   "metadata": {},
   "source": [
    "### SOLUCION"
   ]
  },
  {
   "cell_type": "markdown",
   "metadata": {},
   "source": [
    "BORRE ESTE TEXTO Y EXPLIQUE LA ESTRATEGIA A UTILIZAR EN SU SOLUCION: VA A CREAR CLASES? CON QUE METODOS? VA A CREAR FUNCIONES? QUE FUNCIONES? COMO VA A IDENTIFICAR QUE HA LLEGADO A UNA SOLUCION? COMO VA A LOGRAR REALIZAR EL GRAFICO?\n"
   ]
  },
  {
   "cell_type": "code",
   "execution_count": 4,
   "metadata": {},
   "outputs": [],
   "source": [
    "# Tiene total libertad para utilizar todas las herramientas de Python que hemos visto en el curso.\n",
    "# NO UTILICE CONSTRUCCIONES QUE NO HEMOS REVISADO A MENOS QUE SEPA MUY BIEN LO QUE ESTA HACIENDO!!!\n",
    "\n",
    "\n"
   ]
  },
  {
   "cell_type": "markdown",
   "metadata": {},
   "source": [
    "### Rubrica de evaluación\n",
    "\n",
    "| Descripcion                                                            | Ptos  | N1 | N2 | N3 | RESULTADO |\n",
    "|------------------------------------------------------------------------|-------|----|----|----|-----------|\n",
    "| Explica con claridad la estrategia a seguir para su solución           | 5 | 0 | 3 | 5 |\n",
    "| Presenta un código ordenado, legible y comentado                       | 5 | 0 | 3 | 5 |\n",
    "| Obtiene la matriz resultante y controla que el problema tenga solución | 5 | 0 | 3 | 5 |\n",
    "| Muestra la gráfica con la ruta del movimiento obtenido anteriormente   | 5 | 0 | 3 | 5 |\n",
    "\n",
    "NOTA:\n",
    "\n",
    "##### Leyenda\n",
    "    N1: No cumple\n",
    "    N2: En desarrollo\n",
    "    N3: Cumple con el requerimiento"
   ]
  }
 ],
 "metadata": {
  "anaconda-cloud": {},
  "kernelspec": {
   "display_name": "Python 3",
   "language": "python",
   "name": "python3"
  },
  "language_info": {
   "codemirror_mode": {
    "name": "ipython",
    "version": 3
   },
   "file_extension": ".py",
   "mimetype": "text/x-python",
   "name": "python",
   "nbconvert_exporter": "python",
   "pygments_lexer": "ipython3",
   "version": "3.7.0"
  }
 },
 "nbformat": 4,
 "nbformat_minor": 1
}
